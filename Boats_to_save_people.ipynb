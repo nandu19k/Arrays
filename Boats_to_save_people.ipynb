{
  "nbformat": 4,
  "nbformat_minor": 0,
  "metadata": {
    "colab": {
      "name": "Boats to save people.ipynb",
      "provenance": []
    },
    "kernelspec": {
      "name": "python3",
      "display_name": "Python 3"
    }
  },
  "cells": [
    {
      "cell_type": "markdown",
      "metadata": {
        "id": "7ChQcuWwviUU"
      },
      "source": [
        "Problem Link: https://leetcode.com/problems/boats-to-save-people/"
      ]
    },
    {
      "cell_type": "code",
      "metadata": {
        "id": "JZ1AMyU11pJe"
      },
      "source": [
        "def savePeople(people , limit):\n",
        "  people.sort()\n",
        "\n",
        "  left = 0\n",
        "  right = len(people) - 1\n",
        "  boats_number = 0\n",
        "\n",
        "  while (left <= right):\n",
        "    if left == right:\n",
        "      boats_number +=1\n",
        "      break\n",
        "    if people[left] +people[right] <=limit:\n",
        "      left +=1\n",
        "\n",
        "    right-=1\n",
        "    boats_number +=1\n",
        "\n",
        "  return boats_number"
      ],
      "execution_count": 1,
      "outputs": []
    },
    {
      "cell_type": "code",
      "metadata": {
        "id": "cfhc5iEw50r1",
        "outputId": "7a10e14e-616c-4d8d-cf6d-61a0d44e711c",
        "colab": {
          "base_uri": "https://localhost:8080/"
        }
      },
      "source": [
        "people = [3,2,2,1]\n",
        "limit = 3\n",
        "\n",
        "savePeople(people , limit)"
      ],
      "execution_count": 2,
      "outputs": [
        {
          "output_type": "execute_result",
          "data": {
            "text/plain": [
              "3"
            ]
          },
          "metadata": {
            "tags": []
          },
          "execution_count": 2
        }
      ]
    }
  ]
}