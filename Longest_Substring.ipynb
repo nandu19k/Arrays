{
  "nbformat": 4,
  "nbformat_minor": 0,
  "metadata": {
    "colab": {
      "name": "Longest Substring.ipynb",
      "provenance": []
    },
    "kernelspec": {
      "name": "python3",
      "display_name": "Python 3"
    }
  },
  "cells": [
    {
      "cell_type": "markdown",
      "metadata": {
        "id": "ervgghenTyRp"
      },
      "source": [
        "Problem Link: https://leetcode.com/problems/longest-substring-without-repeating-characters/"
      ]
    },
    {
      "cell_type": "code",
      "metadata": {
        "id": "5vC_JgNlThrH"
      },
      "source": [
        "def longestSubstring(s):\n",
        "  left = 0\n",
        "  right = 0\n",
        "  ans = 0\n",
        "  m = {}\n",
        "  n = len(s)\n",
        "\n",
        "  while left < n and right <n:\n",
        "    el = s[right]\n",
        "    if (el in m):\n",
        "      left = max(left , m[el]+1)\n",
        "    m[el] = right\n",
        "    ans = max(ans , right-left+1)\n",
        "    right+=1\n",
        "  return ans"
      ],
      "execution_count": 1,
      "outputs": []
    },
    {
      "cell_type": "code",
      "metadata": {
        "colab": {
          "base_uri": "https://localhost:8080/"
        },
        "id": "TdwpPDl3WLqe",
        "outputId": "fa80bc4e-e005-4e0c-efdd-5bfd1fb2d49f"
      },
      "source": [
        "s = \"abcabcbb\"\n",
        "longestSubstring(s)"
      ],
      "execution_count": 2,
      "outputs": [
        {
          "output_type": "execute_result",
          "data": {
            "text/plain": [
              "3"
            ]
          },
          "metadata": {
            "tags": []
          },
          "execution_count": 2
        }
      ]
    },
    {
      "cell_type": "code",
      "metadata": {
        "colab": {
          "base_uri": "https://localhost:8080/"
        },
        "id": "Jzv_7OO1Xhhe",
        "outputId": "49106dd8-bc9e-4d86-8646-1cf4ce4752a5"
      },
      "source": [
        "s = \"bbbbb\"\n",
        "longestSubstring(s)"
      ],
      "execution_count": 3,
      "outputs": [
        {
          "output_type": "execute_result",
          "data": {
            "text/plain": [
              "1"
            ]
          },
          "metadata": {
            "tags": []
          },
          "execution_count": 3
        }
      ]
    }
  ]
}