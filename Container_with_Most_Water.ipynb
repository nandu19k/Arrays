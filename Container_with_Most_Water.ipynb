{
  "nbformat": 4,
  "nbformat_minor": 0,
  "metadata": {
    "colab": {
      "name": "Container with Most Water.ipynb",
      "provenance": []
    },
    "kernelspec": {
      "name": "python3",
      "display_name": "Python 3"
    }
  },
  "cells": [
    {
      "cell_type": "markdown",
      "metadata": {
        "id": "fltF9VYSAyZ2"
      },
      "source": [
        "Problem Link: https://leetcode.com/problems/container-with-most-water/"
      ]
    },
    {
      "cell_type": "code",
      "metadata": {
        "id": "CKc3yeu0A2jA"
      },
      "source": [
        "def mostWater(height):\n",
        "  l =0\n",
        "  r = len(height)-1\n",
        "  maxarea = 0\n",
        "  while l<r:\n",
        "    maxarea = max(maxarea , min(height[l] , height[r])*(r-l))\n",
        "    if height[l] < height[r]:\n",
        "      l+=1\n",
        "    else:\n",
        "      r-=1\n",
        "  return maxarea"
      ],
      "execution_count": 1,
      "outputs": []
    },
    {
      "cell_type": "code",
      "metadata": {
        "id": "KnU-li03QxX4",
        "outputId": "4066efc6-ab6f-4ce8-b0cb-e71b14716c3c",
        "colab": {
          "base_uri": "https://localhost:8080/"
        }
      },
      "source": [
        "height = [1,8,6,2,5,4,8,3,7]\n",
        "mostWater(height)"
      ],
      "execution_count": 2,
      "outputs": [
        {
          "output_type": "execute_result",
          "data": {
            "text/plain": [
              "49"
            ]
          },
          "metadata": {
            "tags": []
          },
          "execution_count": 2
        }
      ]
    }
  ]
}