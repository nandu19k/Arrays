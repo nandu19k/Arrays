{
  "nbformat": 4,
  "nbformat_minor": 0,
  "metadata": {
    "colab": {
      "name": "Move Zeros.ipynb",
      "provenance": []
    },
    "kernelspec": {
      "name": "python3",
      "display_name": "Python 3"
    }
  },
  "cells": [
    {
      "cell_type": "markdown",
      "metadata": {
        "id": "7ChQcuWwviUU"
      },
      "source": [
        "Problem Link: https://leetcode.com/problems/move-zeroes/"
      ]
    },
    {
      "cell_type": "code",
      "metadata": {
        "id": "diWHAY-bx0TC"
      },
      "source": [
        "def moveZeros(lst):\n",
        "  j = 0\n",
        "  for num in lst:\n",
        "    if num !=0:\n",
        "      lst[j] = num\n",
        "      j+=1\n",
        "  for x in range(j , len(lst)):\n",
        "    lst[x] = 0\n",
        "  return lst"
      ],
      "execution_count": 1,
      "outputs": []
    },
    {
      "cell_type": "code",
      "metadata": {
        "id": "uOTI-X38x1pA",
        "outputId": "291e300c-6f20-484f-c0ed-f86f65dc90a8",
        "colab": {
          "base_uri": "https://localhost:8080/"
        }
      },
      "source": [
        "num_list = [0,0,1]\n",
        "moveZeros(num_list)"
      ],
      "execution_count": 2,
      "outputs": [
        {
          "output_type": "execute_result",
          "data": {
            "text/plain": [
              "[1, 0, 0]"
            ]
          },
          "metadata": {
            "tags": []
          },
          "execution_count": 2
        }
      ]
    }
  ]
}