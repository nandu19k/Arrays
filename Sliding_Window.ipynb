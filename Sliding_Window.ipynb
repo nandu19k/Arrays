{
  "nbformat": 4,
  "nbformat_minor": 0,
  "metadata": {
    "colab": {
      "name": "Sliding Window.ipynb",
      "provenance": []
    },
    "kernelspec": {
      "name": "python3",
      "display_name": "Python 3"
    }
  },
  "cells": [
    {
      "cell_type": "markdown",
      "metadata": {
        "id": "ok8GRwdvOyg2"
      },
      "source": [
        "**max sum of n consecutive numbers**\n"
      ]
    },
    {
      "cell_type": "code",
      "metadata": {
        "colab": {
          "base_uri": "https://localhost:8080/"
        },
        "id": "hoxvl6nTOv7x",
        "outputId": "fe7f11cc-ab21-4579-ce9e-3b836b3809f2"
      },
      "source": [
        "def maxSum(arr , windowsize):\n",
        "  arrsize = len(arr)\n",
        "\n",
        "  if arrsize < windowsize:\n",
        "    print('Invalid operation')\n",
        "    return -1\n",
        "  \n",
        "  window_sum = sum([arr[i] for i in range(windowsize)])\n",
        "  max_sum = window_sum\n",
        "\n",
        "  for i in range(arrsize - windowsize):\n",
        "    window_sum = window_sum - arr[i] + arr[i+windowsize]\n",
        "    max_sum = max(max_sum , window_sum)\n",
        "\n",
        "  return max_sum\n",
        "\n",
        "\n",
        "arr = [1, 2, 100, -1, 5]\n",
        "maxSum(arr , 5)"
      ],
      "execution_count": 6,
      "outputs": [
        {
          "output_type": "execute_result",
          "data": {
            "text/plain": [
              "107"
            ]
          },
          "metadata": {
            "tags": []
          },
          "execution_count": 6
        }
      ]
    }
  ]
}