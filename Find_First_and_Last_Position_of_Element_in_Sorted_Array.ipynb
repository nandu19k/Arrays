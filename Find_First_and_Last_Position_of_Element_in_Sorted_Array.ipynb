{
  "nbformat": 4,
  "nbformat_minor": 0,
  "metadata": {
    "colab": {
      "name": "Find First and Last Position of Element in Sorted Array.ipynb",
      "provenance": []
    },
    "kernelspec": {
      "name": "python3",
      "display_name": "Python 3"
    }
  },
  "cells": [
    {
      "cell_type": "markdown",
      "metadata": {
        "id": "m5cxQB-gTovP"
      },
      "source": [
        "Problem Link: https://leetcode.com/problems/find-first-and-last-position-of-element-in-sorted-array/"
      ]
    },
    {
      "cell_type": "code",
      "metadata": {
        "id": "6FkT5XdeTuIU"
      },
      "source": [
        "def getLeftPosition(nums , target):\n",
        "  l =0\n",
        "  r= len(nums) - 1\n",
        "  while l<=r:\n",
        "    mid= (l+r)//2\n",
        "    if nums[mid] == target:\n",
        "      if mid-1>=0 and nums[mid-1]!= target or mid ==0:\n",
        "        return mid\n",
        "      r = mid-1\n",
        "    elif nums[mid] > target:\n",
        "      r = mid-1\n",
        "    else:\n",
        "      l = mid+1\n",
        "  return -1\n",
        "\n",
        "def getRightPosition(nums , target):\n",
        "  l =0\n",
        "  r = len(nums)-1\n",
        "  while l<=r:\n",
        "    mid = (l+r)//2\n",
        "    if nums[mid]==target:\n",
        "      if mid+1< len(nums) and nums[mid+1] !=target or mid == len(nums-1):\n",
        "        return mid\n",
        "      l = mid+1\n",
        "    elif nums[mid] > target:\n",
        "      r = mid-1\n",
        "    else:\n",
        "      l = mid+1\n",
        "\n",
        "  return -1\n"
      ],
      "execution_count": 1,
      "outputs": []
    },
    {
      "cell_type": "code",
      "metadata": {
        "id": "wunAN49jdVka"
      },
      "source": [
        "def getPosition(nums , target):\n",
        "  left = getLeftPosition(nums , target)\n",
        "  right = getRightPosition(nums , target)\n",
        "  return [left , right]"
      ],
      "execution_count": 2,
      "outputs": []
    },
    {
      "cell_type": "code",
      "metadata": {
        "id": "N85V0EW9eci6",
        "outputId": "67f1777d-1576-4bb1-86ba-93fdc484594d",
        "colab": {
          "base_uri": "https://localhost:8080/"
        }
      },
      "source": [
        "nums = [5,7,7,8,8,10]\n",
        "target = 8\n",
        "getPosition(nums , target)"
      ],
      "execution_count": 3,
      "outputs": [
        {
          "output_type": "execute_result",
          "data": {
            "text/plain": [
              "[3, 4]"
            ]
          },
          "metadata": {
            "tags": []
          },
          "execution_count": 3
        }
      ]
    },
    {
      "cell_type": "code",
      "metadata": {
        "id": "N0EwlUEyeiR6",
        "outputId": "d05d400b-a4af-43e2-ab05-75cd015ba325",
        "colab": {
          "base_uri": "https://localhost:8080/"
        }
      },
      "source": [
        "nums = []\n",
        "target = 0\n",
        "getPosition(nums , target)"
      ],
      "execution_count": 4,
      "outputs": [
        {
          "output_type": "execute_result",
          "data": {
            "text/plain": [
              "[-1, -1]"
            ]
          },
          "metadata": {
            "tags": []
          },
          "execution_count": 4
        }
      ]
    }
  ]
}