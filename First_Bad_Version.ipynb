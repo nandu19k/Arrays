{
  "nbformat": 4,
  "nbformat_minor": 0,
  "metadata": {
    "colab": {
      "name": "First Bad Version.ipynb",
      "provenance": []
    },
    "kernelspec": {
      "name": "python3",
      "display_name": "Python 3"
    }
  },
  "cells": [
    {
      "cell_type": "markdown",
      "metadata": {
        "id": "9q0hP3lr3npu"
      },
      "source": [
        "Problem Link : https://leetcode.com/problems/first-bad-version/"
      ]
    },
    {
      "cell_type": "code",
      "metadata": {
        "id": "Tvr_dPJG3sxF"
      },
      "source": [
        "def FirstBadVersion(n):\n",
        "  low = 1\n",
        "  high = n\n",
        "\n",
        "  while low <= high:\n",
        "    mid = (low+high)//2\n",
        "\n",
        "    if not isBadVersion(mid):\n",
        "      low = mid+1\n",
        "    else:\n",
        "      high = mid\n",
        "  return low\n",
        "  "
      ],
      "execution_count": 1,
      "outputs": []
    }
  ]
}