{
  "nbformat": 4,
  "nbformat_minor": 0,
  "metadata": {
    "colab": {
      "name": "Valid Mountain array.ipynb",
      "provenance": []
    },
    "kernelspec": {
      "name": "python3",
      "display_name": "Python 3"
    }
  },
  "cells": [
    {
      "cell_type": "markdown",
      "metadata": {
        "id": "UpuvRUUo6K8U"
      },
      "source": [
        "Problem Link: https://leetcode.com/problems/valid-mountain-array/"
      ]
    },
    {
      "cell_type": "code",
      "metadata": {
        "id": "Iu2TszqS6kGD"
      },
      "source": [
        "def validMountainarray(lst):\n",
        "  if len(lst) < 3:\n",
        "    return False\n",
        "  i=1\n",
        "  while (i < len(lst) and lst[i] >lst[i-1]):\n",
        "    i+=1\n",
        "  if i ==1 or i ==len(lst):\n",
        "    return False\n",
        "  \n",
        "  while i <len(lst) and lst[i] < lst[i-1]:\n",
        "    i+=1\n",
        "\n",
        "  return i == len(lst)\n",
        "  "
      ],
      "execution_count": 1,
      "outputs": []
    },
    {
      "cell_type": "code",
      "metadata": {
        "id": "F_U_SCIH-j7a",
        "outputId": "95a4267f-7520-49b3-f48c-55fc345a7a30",
        "colab": {
          "base_uri": "https://localhost:8080/"
        }
      },
      "source": [
        "arr = [3,5,5]\n",
        "validMountainarray(arr)"
      ],
      "execution_count": 2,
      "outputs": [
        {
          "output_type": "execute_result",
          "data": {
            "text/plain": [
              "False"
            ]
          },
          "metadata": {
            "tags": []
          },
          "execution_count": 2
        }
      ]
    },
    {
      "cell_type": "code",
      "metadata": {
        "id": "n-A33kk_-rni",
        "outputId": "d6102ca7-ca2f-4084-dd4a-c601c4019e91",
        "colab": {
          "base_uri": "https://localhost:8080/"
        }
      },
      "source": [
        "arr = [0,3,2,1]\n",
        "validMountainarray(arr)"
      ],
      "execution_count": 3,
      "outputs": [
        {
          "output_type": "execute_result",
          "data": {
            "text/plain": [
              "True"
            ]
          },
          "metadata": {
            "tags": []
          },
          "execution_count": 3
        }
      ]
    }
  ]
}